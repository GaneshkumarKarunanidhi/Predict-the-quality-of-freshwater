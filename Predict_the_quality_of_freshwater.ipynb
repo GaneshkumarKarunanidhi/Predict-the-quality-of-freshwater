{
  "nbformat": 4,
  "nbformat_minor": 0,
  "metadata": {
    "colab": {
      "provenance": []
    },
    "kernelspec": {
      "name": "python3",
      "display_name": "Python 3"
    },
    "language_info": {
      "name": "python"
    }
  },
  "cells": [
    {
      "cell_type": "markdown",
      "source": [
        "\n",
        "Freshwater is one of our most vital and scarce natural resources, making up just 3% of the earth’s total water volume. It touches nearly every aspect of our daily lives, from drinking, swimming, and bathing to generating food, electricity, and the products we use every day. Access to a safe and sanitary water supply is essential not only to human life, but also to the survival of surrounding ecosystems that are experiencing the effects of droughts, pollution, and rising temperatures.\n",
        "\n",
        "\n",
        "The Dataset is water related datasets."
      ],
      "metadata": {
        "id": "oIreS-TK5M0b"
      }
    },
    {
      "cell_type": "code",
      "source": [
        "!wget 'https://s3-ap-southeast-1.amazonaws.com/he-public-data/datasetab75fb3.zip'"
      ],
      "metadata": {
        "colab": {
          "base_uri": "https://localhost:8080/"
        },
        "id": "rHvAZbAZnP6f",
        "outputId": "d8e99141-c988-4927-a8eb-5dd0bedfbbf5"
      },
      "execution_count": 1,
      "outputs": [
        {
          "output_type": "stream",
          "name": "stdout",
          "text": [
            "--2023-01-05 05:06:47--  https://s3-ap-southeast-1.amazonaws.com/he-public-data/datasetab75fb3.zip\n",
            "Resolving s3-ap-southeast-1.amazonaws.com (s3-ap-southeast-1.amazonaws.com)... 52.219.40.206\n",
            "Connecting to s3-ap-southeast-1.amazonaws.com (s3-ap-southeast-1.amazonaws.com)|52.219.40.206|:443... connected.\n",
            "HTTP request sent, awaiting response... 200 OK\n",
            "Length: 987001656 (941M) [binary/octet-stream]\n",
            "Saving to: ‘datasetab75fb3.zip’\n",
            "\n",
            "datasetab75fb3.zip  100%[===================>] 941.28M  16.8MB/s    in 59s     \n",
            "\n",
            "2023-01-05 05:07:47 (15.9 MB/s) - ‘datasetab75fb3.zip’ saved [987001656/987001656]\n",
            "\n"
          ]
        }
      ]
    },
    {
      "cell_type": "code",
      "execution_count": 2,
      "metadata": {
        "colab": {
          "base_uri": "https://localhost:8080/"
        },
        "id": "Gl6bXRBRnHb5",
        "outputId": "823cfaeb-df01-4c3c-8655-2ac59d7b9667"
      },
      "outputs": [
        {
          "output_type": "stream",
          "name": "stdout",
          "text": [
            "Archive:  /content/datasetab75fb3.zip\n",
            "  inflating: dataset.csv             \n"
          ]
        }
      ],
      "source": [
        "!unzip '/content/datasetab75fb3.zip'"
      ]
    },
    {
      "cell_type": "code",
      "source": [
        "import pandas as pd\n",
        "import numpy as np\n",
        "import sklearn as sk\n",
        "import matplotlib.pyplot as plt\n",
        "data =pd.read_csv('/content/dataset.csv')"
      ],
      "metadata": {
        "id": "fOLC-laXn-uR"
      },
      "execution_count": 3,
      "outputs": []
    },
    {
      "cell_type": "code",
      "source": [
        "data.head()"
      ],
      "metadata": {
        "colab": {
          "base_uri": "https://localhost:8080/",
          "height": 421
        },
        "id": "74IIc9Fu4pod",
        "outputId": "880c2c1e-1f92-4cff-bde5-16eb5581b19e"
      },
      "execution_count": 4,
      "outputs": [
        {
          "output_type": "execute_result",
          "data": {
            "text/plain": [
              "   Index        pH      Iron   Nitrate    Chloride           Lead      Zinc  \\\n",
              "0      0  8.332988  0.000083  8.605777  122.799772   3.713298e-52  3.434827   \n",
              "1      1  6.917863  0.000081  3.734167  227.029851   7.849262e-94  1.245317   \n",
              "2      2  5.443762  0.020106  3.816994  230.995630   5.286616e-76  0.528280   \n",
              "3      3  7.955339  0.143988  8.224944  178.129940  3.997118e-176  4.027879   \n",
              "4      4  8.091909  0.002167  9.925788  186.540872  4.171069e-132  3.807511   \n",
              "\n",
              "            Color  Turbidity  Fluoride  ...  Chlorine     Manganese  \\\n",
              "0       Colorless   0.022683  0.607283  ...  3.708178  2.269945e-15   \n",
              "1    Faint Yellow   0.019007  0.622874  ...  3.292038  8.024076e-07   \n",
              "2    Light Yellow   0.319956  0.423423  ...  3.560224  7.007989e-02   \n",
              "3  Near Colorless   0.166319  0.208454  ...  3.516907  2.468295e-02   \n",
              "4    Light Yellow   0.004867  0.222912  ...  3.177849  3.296139e-03   \n",
              "\n",
              "   Total Dissolved Solids  Source  Water Temperature  Air Temperature  \\\n",
              "0              332.118789     NaN                NaN        43.493324   \n",
              "1              284.641984    Lake          15.348981        71.220586   \n",
              "2              570.054094   River          11.643467        44.891330   \n",
              "3              100.043838  Ground          10.092392        60.843233   \n",
              "4              168.075545  Spring          15.249416        69.336671   \n",
              "\n",
              "      Month   Day  Time of Day  Target  \n",
              "0   January  29.0          4.0       0  \n",
              "1  November  26.0         16.0       0  \n",
              "2   January  31.0          8.0       0  \n",
              "3     April   1.0         21.0       0  \n",
              "4      June  29.0          7.0       0  \n",
              "\n",
              "[5 rows x 24 columns]"
            ],
            "text/html": [
              "\n",
              "  <div id=\"df-765a74da-d5d1-4be5-be27-ea7fad3bf208\">\n",
              "    <div class=\"colab-df-container\">\n",
              "      <div>\n",
              "<style scoped>\n",
              "    .dataframe tbody tr th:only-of-type {\n",
              "        vertical-align: middle;\n",
              "    }\n",
              "\n",
              "    .dataframe tbody tr th {\n",
              "        vertical-align: top;\n",
              "    }\n",
              "\n",
              "    .dataframe thead th {\n",
              "        text-align: right;\n",
              "    }\n",
              "</style>\n",
              "<table border=\"1\" class=\"dataframe\">\n",
              "  <thead>\n",
              "    <tr style=\"text-align: right;\">\n",
              "      <th></th>\n",
              "      <th>Index</th>\n",
              "      <th>pH</th>\n",
              "      <th>Iron</th>\n",
              "      <th>Nitrate</th>\n",
              "      <th>Chloride</th>\n",
              "      <th>Lead</th>\n",
              "      <th>Zinc</th>\n",
              "      <th>Color</th>\n",
              "      <th>Turbidity</th>\n",
              "      <th>Fluoride</th>\n",
              "      <th>...</th>\n",
              "      <th>Chlorine</th>\n",
              "      <th>Manganese</th>\n",
              "      <th>Total Dissolved Solids</th>\n",
              "      <th>Source</th>\n",
              "      <th>Water Temperature</th>\n",
              "      <th>Air Temperature</th>\n",
              "      <th>Month</th>\n",
              "      <th>Day</th>\n",
              "      <th>Time of Day</th>\n",
              "      <th>Target</th>\n",
              "    </tr>\n",
              "  </thead>\n",
              "  <tbody>\n",
              "    <tr>\n",
              "      <th>0</th>\n",
              "      <td>0</td>\n",
              "      <td>8.332988</td>\n",
              "      <td>0.000083</td>\n",
              "      <td>8.605777</td>\n",
              "      <td>122.799772</td>\n",
              "      <td>3.713298e-52</td>\n",
              "      <td>3.434827</td>\n",
              "      <td>Colorless</td>\n",
              "      <td>0.022683</td>\n",
              "      <td>0.607283</td>\n",
              "      <td>...</td>\n",
              "      <td>3.708178</td>\n",
              "      <td>2.269945e-15</td>\n",
              "      <td>332.118789</td>\n",
              "      <td>NaN</td>\n",
              "      <td>NaN</td>\n",
              "      <td>43.493324</td>\n",
              "      <td>January</td>\n",
              "      <td>29.0</td>\n",
              "      <td>4.0</td>\n",
              "      <td>0</td>\n",
              "    </tr>\n",
              "    <tr>\n",
              "      <th>1</th>\n",
              "      <td>1</td>\n",
              "      <td>6.917863</td>\n",
              "      <td>0.000081</td>\n",
              "      <td>3.734167</td>\n",
              "      <td>227.029851</td>\n",
              "      <td>7.849262e-94</td>\n",
              "      <td>1.245317</td>\n",
              "      <td>Faint Yellow</td>\n",
              "      <td>0.019007</td>\n",
              "      <td>0.622874</td>\n",
              "      <td>...</td>\n",
              "      <td>3.292038</td>\n",
              "      <td>8.024076e-07</td>\n",
              "      <td>284.641984</td>\n",
              "      <td>Lake</td>\n",
              "      <td>15.348981</td>\n",
              "      <td>71.220586</td>\n",
              "      <td>November</td>\n",
              "      <td>26.0</td>\n",
              "      <td>16.0</td>\n",
              "      <td>0</td>\n",
              "    </tr>\n",
              "    <tr>\n",
              "      <th>2</th>\n",
              "      <td>2</td>\n",
              "      <td>5.443762</td>\n",
              "      <td>0.020106</td>\n",
              "      <td>3.816994</td>\n",
              "      <td>230.995630</td>\n",
              "      <td>5.286616e-76</td>\n",
              "      <td>0.528280</td>\n",
              "      <td>Light Yellow</td>\n",
              "      <td>0.319956</td>\n",
              "      <td>0.423423</td>\n",
              "      <td>...</td>\n",
              "      <td>3.560224</td>\n",
              "      <td>7.007989e-02</td>\n",
              "      <td>570.054094</td>\n",
              "      <td>River</td>\n",
              "      <td>11.643467</td>\n",
              "      <td>44.891330</td>\n",
              "      <td>January</td>\n",
              "      <td>31.0</td>\n",
              "      <td>8.0</td>\n",
              "      <td>0</td>\n",
              "    </tr>\n",
              "    <tr>\n",
              "      <th>3</th>\n",
              "      <td>3</td>\n",
              "      <td>7.955339</td>\n",
              "      <td>0.143988</td>\n",
              "      <td>8.224944</td>\n",
              "      <td>178.129940</td>\n",
              "      <td>3.997118e-176</td>\n",
              "      <td>4.027879</td>\n",
              "      <td>Near Colorless</td>\n",
              "      <td>0.166319</td>\n",
              "      <td>0.208454</td>\n",
              "      <td>...</td>\n",
              "      <td>3.516907</td>\n",
              "      <td>2.468295e-02</td>\n",
              "      <td>100.043838</td>\n",
              "      <td>Ground</td>\n",
              "      <td>10.092392</td>\n",
              "      <td>60.843233</td>\n",
              "      <td>April</td>\n",
              "      <td>1.0</td>\n",
              "      <td>21.0</td>\n",
              "      <td>0</td>\n",
              "    </tr>\n",
              "    <tr>\n",
              "      <th>4</th>\n",
              "      <td>4</td>\n",
              "      <td>8.091909</td>\n",
              "      <td>0.002167</td>\n",
              "      <td>9.925788</td>\n",
              "      <td>186.540872</td>\n",
              "      <td>4.171069e-132</td>\n",
              "      <td>3.807511</td>\n",
              "      <td>Light Yellow</td>\n",
              "      <td>0.004867</td>\n",
              "      <td>0.222912</td>\n",
              "      <td>...</td>\n",
              "      <td>3.177849</td>\n",
              "      <td>3.296139e-03</td>\n",
              "      <td>168.075545</td>\n",
              "      <td>Spring</td>\n",
              "      <td>15.249416</td>\n",
              "      <td>69.336671</td>\n",
              "      <td>June</td>\n",
              "      <td>29.0</td>\n",
              "      <td>7.0</td>\n",
              "      <td>0</td>\n",
              "    </tr>\n",
              "  </tbody>\n",
              "</table>\n",
              "<p>5 rows × 24 columns</p>\n",
              "</div>\n",
              "      <button class=\"colab-df-convert\" onclick=\"convertToInteractive('df-765a74da-d5d1-4be5-be27-ea7fad3bf208')\"\n",
              "              title=\"Convert this dataframe to an interactive table.\"\n",
              "              style=\"display:none;\">\n",
              "        \n",
              "  <svg xmlns=\"http://www.w3.org/2000/svg\" height=\"24px\"viewBox=\"0 0 24 24\"\n",
              "       width=\"24px\">\n",
              "    <path d=\"M0 0h24v24H0V0z\" fill=\"none\"/>\n",
              "    <path d=\"M18.56 5.44l.94 2.06.94-2.06 2.06-.94-2.06-.94-.94-2.06-.94 2.06-2.06.94zm-11 1L8.5 8.5l.94-2.06 2.06-.94-2.06-.94L8.5 2.5l-.94 2.06-2.06.94zm10 10l.94 2.06.94-2.06 2.06-.94-2.06-.94-.94-2.06-.94 2.06-2.06.94z\"/><path d=\"M17.41 7.96l-1.37-1.37c-.4-.4-.92-.59-1.43-.59-.52 0-1.04.2-1.43.59L10.3 9.45l-7.72 7.72c-.78.78-.78 2.05 0 2.83L4 21.41c.39.39.9.59 1.41.59.51 0 1.02-.2 1.41-.59l7.78-7.78 2.81-2.81c.8-.78.8-2.07 0-2.86zM5.41 20L4 18.59l7.72-7.72 1.47 1.35L5.41 20z\"/>\n",
              "  </svg>\n",
              "      </button>\n",
              "      \n",
              "  <style>\n",
              "    .colab-df-container {\n",
              "      display:flex;\n",
              "      flex-wrap:wrap;\n",
              "      gap: 12px;\n",
              "    }\n",
              "\n",
              "    .colab-df-convert {\n",
              "      background-color: #E8F0FE;\n",
              "      border: none;\n",
              "      border-radius: 50%;\n",
              "      cursor: pointer;\n",
              "      display: none;\n",
              "      fill: #1967D2;\n",
              "      height: 32px;\n",
              "      padding: 0 0 0 0;\n",
              "      width: 32px;\n",
              "    }\n",
              "\n",
              "    .colab-df-convert:hover {\n",
              "      background-color: #E2EBFA;\n",
              "      box-shadow: 0px 1px 2px rgba(60, 64, 67, 0.3), 0px 1px 3px 1px rgba(60, 64, 67, 0.15);\n",
              "      fill: #174EA6;\n",
              "    }\n",
              "\n",
              "    [theme=dark] .colab-df-convert {\n",
              "      background-color: #3B4455;\n",
              "      fill: #D2E3FC;\n",
              "    }\n",
              "\n",
              "    [theme=dark] .colab-df-convert:hover {\n",
              "      background-color: #434B5C;\n",
              "      box-shadow: 0px 1px 3px 1px rgba(0, 0, 0, 0.15);\n",
              "      filter: drop-shadow(0px 1px 2px rgba(0, 0, 0, 0.3));\n",
              "      fill: #FFFFFF;\n",
              "    }\n",
              "  </style>\n",
              "\n",
              "      <script>\n",
              "        const buttonEl =\n",
              "          document.querySelector('#df-765a74da-d5d1-4be5-be27-ea7fad3bf208 button.colab-df-convert');\n",
              "        buttonEl.style.display =\n",
              "          google.colab.kernel.accessAllowed ? 'block' : 'none';\n",
              "\n",
              "        async function convertToInteractive(key) {\n",
              "          const element = document.querySelector('#df-765a74da-d5d1-4be5-be27-ea7fad3bf208');\n",
              "          const dataTable =\n",
              "            await google.colab.kernel.invokeFunction('convertToInteractive',\n",
              "                                                     [key], {});\n",
              "          if (!dataTable) return;\n",
              "\n",
              "          const docLinkHtml = 'Like what you see? Visit the ' +\n",
              "            '<a target=\"_blank\" href=https://colab.research.google.com/notebooks/data_table.ipynb>data table notebook</a>'\n",
              "            + ' to learn more about interactive tables.';\n",
              "          element.innerHTML = '';\n",
              "          dataTable['output_type'] = 'display_data';\n",
              "          await google.colab.output.renderOutput(dataTable, element);\n",
              "          const docLink = document.createElement('div');\n",
              "          docLink.innerHTML = docLinkHtml;\n",
              "          element.appendChild(docLink);\n",
              "        }\n",
              "      </script>\n",
              "    </div>\n",
              "  </div>\n",
              "  "
            ]
          },
          "metadata": {},
          "execution_count": 4
        }
      ]
    },
    {
      "cell_type": "code",
      "source": [
        "data.info()"
      ],
      "metadata": {
        "colab": {
          "base_uri": "https://localhost:8080/"
        },
        "id": "CuRwZ_Ui4s-S",
        "outputId": "c77569fe-1212-4021-b117-ed4c9cfc00bf"
      },
      "execution_count": 5,
      "outputs": [
        {
          "output_type": "stream",
          "name": "stdout",
          "text": [
            "<class 'pandas.core.frame.DataFrame'>\n",
            "RangeIndex: 5956842 entries, 0 to 5956841\n",
            "Data columns (total 24 columns):\n",
            " #   Column                  Dtype  \n",
            "---  ------                  -----  \n",
            " 0   Index                   int64  \n",
            " 1   pH                      float64\n",
            " 2   Iron                    float64\n",
            " 3   Nitrate                 float64\n",
            " 4   Chloride                float64\n",
            " 5   Lead                    float64\n",
            " 6   Zinc                    float64\n",
            " 7   Color                   object \n",
            " 8   Turbidity               float64\n",
            " 9   Fluoride                float64\n",
            " 10  Copper                  float64\n",
            " 11  Odor                    float64\n",
            " 12  Sulfate                 float64\n",
            " 13  Conductivity            float64\n",
            " 14  Chlorine                float64\n",
            " 15  Manganese               float64\n",
            " 16  Total Dissolved Solids  float64\n",
            " 17  Source                  object \n",
            " 18  Water Temperature       float64\n",
            " 19  Air Temperature         float64\n",
            " 20  Month                   object \n",
            " 21  Day                     float64\n",
            " 22  Time of Day             float64\n",
            " 23  Target                  int64  \n",
            "dtypes: float64(19), int64(2), object(3)\n",
            "memory usage: 1.1+ GB\n"
          ]
        }
      ]
    },
    {
      "cell_type": "markdown",
      "source": [
        "We have to check the null value count in our dataset beacause the algorithm does not predicted well,so we have to check if dataset have a null values or not.here we can use the pandas isnull method. "
      ],
      "metadata": {
        "id": "DDFCrfUZ63dF"
      }
    },
    {
      "cell_type": "code",
      "source": [
        "data.isnull().sum()"
      ],
      "metadata": {
        "id": "OLbcwlag645D",
        "colab": {
          "base_uri": "https://localhost:8080/"
        },
        "outputId": "5b08e700-03ff-4b6e-f374-fca10ed9005c"
      },
      "execution_count": 6,
      "outputs": [
        {
          "output_type": "execute_result",
          "data": {
            "text/plain": [
              "Index                          0\n",
              "pH                        116054\n",
              "Iron                       39753\n",
              "Nitrate                   105725\n",
              "Chloride                  175531\n",
              "Lead                       26909\n",
              "Zinc                      156126\n",
              "Color                       5739\n",
              "Turbidity                  49815\n",
              "Fluoride                  189156\n",
              "Copper                    199402\n",
              "Odor                      178891\n",
              "Sulfate                   197418\n",
              "Conductivity              163861\n",
              "Chlorine                   57825\n",
              "Manganese                 109583\n",
              "Total Dissolved Solids      1670\n",
              "Source                     88262\n",
              "Water Temperature         168233\n",
              "Air Temperature            29728\n",
              "Month                      95668\n",
              "Day                        99603\n",
              "Time of Day               114519\n",
              "Target                         0\n",
              "dtype: int64"
            ]
          },
          "metadata": {},
          "execution_count": 6
        }
      ]
    },
    {
      "cell_type": "code",
      "source": [
        "#Before modifying for original dataset we get the copy of it.\n",
        "resourse = data.copy()"
      ],
      "metadata": {
        "id": "r-gPDSrnoIuN"
      },
      "execution_count": 7,
      "outputs": []
    },
    {
      "cell_type": "code",
      "source": [
        "#Drop some data for more accuracy\n",
        "drop_columns = [\"Month\",\"Day\",\"Time of Day\"]\n",
        "data=data.drop(drop_columns,axis=1)"
      ],
      "metadata": {
        "id": "AjQI0UXqoHWa"
      },
      "execution_count": 8,
      "outputs": []
    },
    {
      "cell_type": "code",
      "source": [
        "data_labels =data['Target']\n",
        "data=data.drop('Target',axis=1)"
      ],
      "metadata": {
        "id": "ZEV9bJUCowZU"
      },
      "execution_count": 9,
      "outputs": []
    },
    {
      "cell_type": "markdown",
      "source": [
        "We can separate the columns(categorical,numerical) using the  scikit learn make_column_selector method."
      ],
      "metadata": {
        "id": "Gg0L4AMe6IZt"
      }
    },
    {
      "cell_type": "code",
      "source": [
        "from sklearn.compose import make_column_selector as selector\n",
        "\n",
        "numerical_columns_selector = selector(dtype_exclude=object)\n",
        "categorical_columns_selector = selector(dtype_include=object)\n",
        "\n",
        "numerical_columns = numerical_columns_selector(data)\n",
        "categorical_columns = categorical_columns_selector(data)"
      ],
      "metadata": {
        "id": "67zmeEZCo9wE"
      },
      "execution_count": 10,
      "outputs": []
    },
    {
      "cell_type": "code",
      "source": [
        "cat_data=data[categorical_columns].fillna('bfill')\n",
        "num_data=data[numerical_columns].fillna(0.0)"
      ],
      "metadata": {
        "id": "kiJOjqyEsdvF"
      },
      "execution_count": 11,
      "outputs": []
    },
    {
      "cell_type": "code",
      "source": [
        "prepared_data=num_data.join(cat_data)"
      ],
      "metadata": {
        "id": "NJE298KFtEbe"
      },
      "execution_count": 12,
      "outputs": []
    },
    {
      "cell_type": "code",
      "source": [
        "prepared_data.shape"
      ],
      "metadata": {
        "colab": {
          "base_uri": "https://localhost:8080/"
        },
        "id": "Gn1xYL1fpUkl",
        "outputId": "8c3f6d15-2b1b-4dea-e339-9b29665ef9fe"
      },
      "execution_count": 13,
      "outputs": [
        {
          "output_type": "execute_result",
          "data": {
            "text/plain": [
              "(5956842, 20)"
            ]
          },
          "metadata": {},
          "execution_count": 13
        }
      ]
    },
    {
      "cell_type": "code",
      "source": [
        "prepared_data.info()"
      ],
      "metadata": {
        "colab": {
          "base_uri": "https://localhost:8080/"
        },
        "id": "Cf1JDbjNuTIO",
        "outputId": "9674e248-684f-4537-8c34-4d50815579cb"
      },
      "execution_count": 14,
      "outputs": [
        {
          "output_type": "stream",
          "name": "stdout",
          "text": [
            "<class 'pandas.core.frame.DataFrame'>\n",
            "RangeIndex: 5956842 entries, 0 to 5956841\n",
            "Data columns (total 20 columns):\n",
            " #   Column                  Dtype  \n",
            "---  ------                  -----  \n",
            " 0   Index                   int64  \n",
            " 1   pH                      float64\n",
            " 2   Iron                    float64\n",
            " 3   Nitrate                 float64\n",
            " 4   Chloride                float64\n",
            " 5   Lead                    float64\n",
            " 6   Zinc                    float64\n",
            " 7   Turbidity               float64\n",
            " 8   Fluoride                float64\n",
            " 9   Copper                  float64\n",
            " 10  Odor                    float64\n",
            " 11  Sulfate                 float64\n",
            " 12  Conductivity            float64\n",
            " 13  Chlorine                float64\n",
            " 14  Manganese               float64\n",
            " 15  Total Dissolved Solids  float64\n",
            " 16  Water Temperature       float64\n",
            " 17  Air Temperature         float64\n",
            " 18  Color                   object \n",
            " 19  Source                  object \n",
            "dtypes: float64(17), int64(1), object(2)\n",
            "memory usage: 908.9+ MB\n"
          ]
        }
      ]
    },
    {
      "cell_type": "code",
      "source": [
        "prepared_data.isnull().sum()"
      ],
      "metadata": {
        "colab": {
          "base_uri": "https://localhost:8080/"
        },
        "id": "KHk17ZLKpg_J",
        "outputId": "33b4aab5-81dc-4f21-eef5-47c01c213bed"
      },
      "execution_count": 15,
      "outputs": [
        {
          "output_type": "execute_result",
          "data": {
            "text/plain": [
              "Index                     0\n",
              "pH                        0\n",
              "Iron                      0\n",
              "Nitrate                   0\n",
              "Chloride                  0\n",
              "Lead                      0\n",
              "Zinc                      0\n",
              "Turbidity                 0\n",
              "Fluoride                  0\n",
              "Copper                    0\n",
              "Odor                      0\n",
              "Sulfate                   0\n",
              "Conductivity              0\n",
              "Chlorine                  0\n",
              "Manganese                 0\n",
              "Total Dissolved Solids    0\n",
              "Water Temperature         0\n",
              "Air Temperature           0\n",
              "Color                     0\n",
              "Source                    0\n",
              "dtype: int64"
            ]
          },
          "metadata": {},
          "execution_count": 15
        }
      ]
    },
    {
      "cell_type": "code",
      "source": [
        "from sklearn.preprocessing import OneHotEncoder, StandardScaler\n",
        "\n",
        "categorical_preprocessor = OneHotEncoder(handle_unknown=\"ignore\")\n",
        "numerical_preprocessor = StandardScaler()"
      ],
      "metadata": {
        "id": "cXYdBY_dpkQ6"
      },
      "execution_count": 16,
      "outputs": []
    },
    {
      "cell_type": "code",
      "source": [
        "from sklearn.compose import ColumnTransformer\n",
        "\n",
        "preprocessor = ColumnTransformer([\n",
        "    ('one-hot-encoder', categorical_preprocessor, categorical_columns),\n",
        "    ('standard_scaler', numerical_preprocessor, numerical_columns)])"
      ],
      "metadata": {
        "id": "2tMSNOODuRWS"
      },
      "execution_count": 17,
      "outputs": []
    },
    {
      "cell_type": "code",
      "source": [
        "from sklearn.linear_model import LogisticRegression\n",
        "from sklearn.pipeline import make_pipeline\n",
        "\n",
        "model = make_pipeline(preprocessor, LogisticRegression(max_iter=500))\n",
        "model"
      ],
      "metadata": {
        "colab": {
          "base_uri": "https://localhost:8080/"
        },
        "id": "frbE7sZ1uhfR",
        "outputId": "cfb3cbbf-9cac-4c0c-987b-c0f62510b21e"
      },
      "execution_count": 18,
      "outputs": [
        {
          "output_type": "execute_result",
          "data": {
            "text/plain": [
              "Pipeline(steps=[('columntransformer',\n",
              "                 ColumnTransformer(transformers=[('one-hot-encoder',\n",
              "                                                  OneHotEncoder(handle_unknown='ignore'),\n",
              "                                                  ['Color', 'Source']),\n",
              "                                                 ('standard_scaler',\n",
              "                                                  StandardScaler(),\n",
              "                                                  ['Index', 'pH', 'Iron',\n",
              "                                                   'Nitrate', 'Chloride',\n",
              "                                                   'Lead', 'Zinc', 'Turbidity',\n",
              "                                                   'Fluoride', 'Copper', 'Odor',\n",
              "                                                   'Sulfate', 'Conductivity',\n",
              "                                                   'Chlorine', 'Manganese',\n",
              "                                                   'Total Dissolved Solids',\n",
              "                                                   'Water Temperature',\n",
              "                                                   'Air Temperature'])])),\n",
              "                ('logisticregression', LogisticRegression(max_iter=500))])"
            ]
          },
          "metadata": {},
          "execution_count": 18
        }
      ]
    },
    {
      "cell_type": "code",
      "source": [
        "from sklearn.model_selection import train_test_split\n",
        "\n",
        "data_train, data_test, target_train, target_test = train_test_split(\n",
        "    prepared_data, data_labels, random_state=2)"
      ],
      "metadata": {
        "id": "GGAO3ujmusc_"
      },
      "execution_count": 19,
      "outputs": []
    },
    {
      "cell_type": "code",
      "source": [
        "linear_ = model.fit(data_train, target_train)"
      ],
      "metadata": {
        "id": "9f8p7kq5u5LZ"
      },
      "execution_count": 20,
      "outputs": []
    },
    {
      "cell_type": "code",
      "source": [
        "predicted_data = model.predict(data_test)"
      ],
      "metadata": {
        "id": "R5uPfL1SvBGS"
      },
      "execution_count": 21,
      "outputs": []
    },
    {
      "cell_type": "code",
      "source": [
        "from sklearn.metrics import accuracy_score,confusion_matrix\n",
        "\n",
        "score = accuracy_score(target_test,predicted_data)\n",
        "score"
      ],
      "metadata": {
        "id": "kpcBPPsWxPOM",
        "colab": {
          "base_uri": "https://localhost:8080/"
        },
        "outputId": "0d4528b0-ccfd-4898-f85e-1db0e14160eb"
      },
      "execution_count": 22,
      "outputs": [
        {
          "output_type": "execute_result",
          "data": {
            "text/plain": [
              "0.7895926097779293"
            ]
          },
          "metadata": {},
          "execution_count": 22
        }
      ]
    },
    {
      "cell_type": "markdown",
      "source": [
        "The linear model accuracy score is a 78%.we can export much more accuracy percentage so we can go for another model\n",
        "\n"
      ],
      "metadata": {
        "id": "wOQ_Ps7E9_C2"
      }
    },
    {
      "cell_type": "code",
      "source": [
        "from sklearn.metrics import classification_report\n",
        "\n",
        "print(classification_report(target_test,predicted_data))"
      ],
      "metadata": {
        "colab": {
          "base_uri": "https://localhost:8080/"
        },
        "id": "iZGacri9x7NG",
        "outputId": "750bb56e-3361-4c7d-e4c0-1f9bb237867e"
      },
      "execution_count": 23,
      "outputs": [
        {
          "output_type": "stream",
          "name": "stdout",
          "text": [
            "              precision    recall  f1-score   support\n",
            "\n",
            "           0       0.81      0.91      0.86   1037475\n",
            "           1       0.72      0.50      0.59    451736\n",
            "\n",
            "    accuracy                           0.79   1489211\n",
            "   macro avg       0.76      0.71      0.73   1489211\n",
            "weighted avg       0.78      0.79      0.78   1489211\n",
            "\n"
          ]
        }
      ]
    },
    {
      "cell_type": "code",
      "source": [
        "con_mtrx = confusion_matrix(target_test,predicted_data)"
      ],
      "metadata": {
        "id": "QOk0t3bix8gg"
      },
      "execution_count": 24,
      "outputs": []
    },
    {
      "cell_type": "code",
      "source": [
        "import seaborn as sns\n",
        "sns.heatmap(con_mtrx, annot=True,fmt=\".1f\")"
      ],
      "metadata": {
        "colab": {
          "base_uri": "https://localhost:8080/",
          "height": 282
        },
        "id": "RGuE5_PYyn1P",
        "outputId": "e998c283-cde8-41b1-c0c5-a37ecc550b13"
      },
      "execution_count": 25,
      "outputs": [
        {
          "output_type": "execute_result",
          "data": {
            "text/plain": [
              "<matplotlib.axes._subplots.AxesSubplot at 0x7fcf20eef220>"
            ]
          },
          "metadata": {},
          "execution_count": 25
        },
        {
          "output_type": "display_data",
          "data": {
            "text/plain": [
              "<Figure size 432x288 with 2 Axes>"
            ],
            "image/png": "[encoded data removed]"
          },
          "metadata": {
            "needs_background": "light"
          }
        }
      ]
    },
    {
      "cell_type": "code",
      "source": [
        "predicted_data"
      ],
      "metadata": {
        "colab": {
          "base_uri": "https://localhost:8080/"
        },
        "id": "uj6YX5MdyuAi",
        "outputId": "1d5cd62c-688f-4635-ad9b-f2764ddfdc3d"
      },
      "execution_count": 26,
      "outputs": [
        {
          "output_type": "execute_result",
          "data": {
            "text/plain": [
              "array([0, 0, 0, ..., 1, 0, 0])"
            ]
          },
          "metadata": {},
          "execution_count": 26
        }
      ]
    },
    {
      "cell_type": "code",
      "source": [
        "from sklearn.linear_model import SGDClassifier\n",
        "sgd_model = make_pipeline(preprocessor, SGDClassifier(random_state=2))"
      ],
      "metadata": {
        "id": "AdFjPXMFyxpi"
      },
      "execution_count": 27,
      "outputs": []
    },
    {
      "cell_type": "code",
      "source": [
        "sgd_ = sgd_model.fit(data_train,target_train)"
      ],
      "metadata": {
        "id": "LAD93cvApvwS"
      },
      "execution_count": 28,
      "outputs": []
    },
    {
      "cell_type": "code",
      "source": [
        "sgd_predictvalue= sgd_model.predict(data_test)"
      ],
      "metadata": {
        "id": "KBJMcUocp6Fn"
      },
      "execution_count": 29,
      "outputs": []
    },
    {
      "cell_type": "code",
      "source": [
        "score = accuracy_score(target_test,sgd_predictvalue)\n",
        "score"
      ],
      "metadata": {
        "id": "Y4TzA8AuqHkU",
        "colab": {
          "base_uri": "https://localhost:8080/"
        },
        "outputId": "08274de2-2bfe-43f5-e0e7-05c66f5a8b76"
      },
      "execution_count": 30,
      "outputs": [
        {
          "output_type": "execute_result",
          "data": {
            "text/plain": [
              "0.7927009671564338"
            ]
          },
          "metadata": {},
          "execution_count": 30
        }
      ]
    },
    {
      "cell_type": "code",
      "source": [
        "print(classification_report(target_test,sgd_predictvalue))"
      ],
      "metadata": {
        "colab": {
          "base_uri": "https://localhost:8080/"
        },
        "id": "oVTWUilY927G",
        "outputId": "7cdf7d50-68e0-49ee-e184-20cec964aa44"
      },
      "execution_count": 31,
      "outputs": [
        {
          "output_type": "stream",
          "name": "stdout",
          "text": [
            "              precision    recall  f1-score   support\n",
            "\n",
            "           0       0.81      0.91      0.86   1037475\n",
            "           1       0.72      0.52      0.61    451736\n",
            "\n",
            "    accuracy                           0.79   1489211\n",
            "   macro avg       0.77      0.72      0.73   1489211\n",
            "weighted avg       0.78      0.79      0.78   1489211\n",
            "\n"
          ]
        }
      ]
    },
    {
      "cell_type": "code",
      "source": [
        "sgd_confmtx= confusion_matrix(target_test,sgd_predictvalue)"
      ],
      "metadata": {
        "id": "6gnbrQ-F_Saq"
      },
      "execution_count": 32,
      "outputs": []
    },
    {
      "cell_type": "code",
      "source": [
        "sns.heatmap(sgd_confmtx, annot=True,fmt=\".1f\")"
      ],
      "metadata": {
        "colab": {
          "base_uri": "https://localhost:8080/",
          "height": 282
        },
        "id": "5nQsmKAS_whQ",
        "outputId": "c277c12a-50c6-4079-d475-485522f7c145"
      },
      "execution_count": 33,
      "outputs": [
        {
          "output_type": "execute_result",
          "data": {
            "text/plain": [
              "<matplotlib.axes._subplots.AxesSubplot at 0x7fcf209c0460>"
            ]
          },
          "metadata": {},
          "execution_count": 33
        },
        {
          "output_type": "display_data",
          "data": {
            "text/plain": [
              "<Figure size 432x288 with 2 Axes>"
            ],
            "image/png": "[encoded data removed]"
          },
          "metadata": {
            "needs_background": "light"
          }
        }
      ]
    },
    {
      "cell_type": "markdown",
      "source": [
        "Comparing the both model SGD classifier gives more accuracy score we can use this model to predict the value.\n",
        "\n"
      ],
      "metadata": {
        "id": "-7RgNyeo_-E5"
      }
    },
    {
      "cell_type": "code",
      "source": [
        "sample_one = data_train[:1]\n",
        "sample_true = target_train[:1]\n"
      ],
      "metadata": {
        "id": "W2A2GFj0_8FV"
      },
      "execution_count": 34,
      "outputs": []
    },
    {
      "cell_type": "code",
      "source": [
        "print(sample_one)"
      ],
      "metadata": {
        "colab": {
          "base_uri": "https://localhost:8080/"
        },
        "id": "-bq7TSpWA6C8",
        "outputId": "63e8139f-762b-4ac1-a861-e42c2592dc6d"
      },
      "execution_count": 35,
      "outputs": [
        {
          "output_type": "stream",
          "name": "stdout",
          "text": [
            "           Index        pH          Iron   Nitrate    Chloride          Lead  \\\n",
            "2577021  2577021  7.651402  5.932075e-14  4.357454  195.438698  1.516015e-37   \n",
            "\n",
            "             Zinc  Turbidity  Fluoride    Copper      Odor     Sulfate  \\\n",
            "2577021  0.447941   0.062052  0.332869  0.130803  3.188509  179.873522   \n",
            "\n",
            "         Conductivity  Chlorine  Manganese  Total Dissolved Solids  \\\n",
            "2577021    295.788944  2.778776   0.027591              341.184511   \n",
            "\n",
            "         Water Temperature  Air Temperature         Color   Source  \n",
            "2577021           8.975598        72.046123  Faint Yellow  Aquifer  \n"
          ]
        }
      ]
    },
    {
      "cell_type": "code",
      "source": [
        "print(sample_true)"
      ],
      "metadata": {
        "colab": {
          "base_uri": "https://localhost:8080/"
        },
        "id": "EWyhC3cEA8y3",
        "outputId": "3bb789da-cc47-49f4-860e-9dc553ea3314"
      },
      "execution_count": 36,
      "outputs": [
        {
          "output_type": "stream",
          "name": "stdout",
          "text": [
            "2577021    0\n",
            "Name: Target, dtype: int64\n"
          ]
        }
      ]
    },
    {
      "cell_type": "code",
      "source": [
        "#Now we have to apply our finialized algorithm\n",
        "\n",
        "predicted_one = sgd_model.predict(sample_one)"
      ],
      "metadata": {
        "id": "yGeZWzYABAm4"
      },
      "execution_count": 37,
      "outputs": []
    },
    {
      "cell_type": "code",
      "source": [
        "predicted_one"
      ],
      "metadata": {
        "colab": {
          "base_uri": "https://localhost:8080/"
        },
        "id": "HhYkLWSIBT0k",
        "outputId": "73aefeba-58ea-4bbe-aa42-fab9ed99eaa6"
      },
      "execution_count": 38,
      "outputs": [
        {
          "output_type": "execute_result",
          "data": {
            "text/plain": [
              "array([0])"
            ]
          },
          "metadata": {},
          "execution_count": 38
        }
      ]
    },
    {
      "cell_type": "markdown",
      "source": [
        "The model almost working perfectly,we can cross validate with one example.\n"
      ],
      "metadata": {
        "id": "32QziMtABZk2"
      }
    },
    {
      "cell_type": "markdown",
      "source": [
        "#Future works \n",
        "  Create a UI and Get the values from user and then predict the values.\n",
        "\n",
        "  Based upon the water values we can print for the **water is able to drink or not** "
      ],
      "metadata": {
        "id": "llEWh6TnBrBi"
      }
    },
    {
      "cell_type": "code",
      "source": [],
      "metadata": {
        "id": "OH1dgAcPBWbK"
      },
      "execution_count": 38,
      "outputs": []
    }
  ]
}